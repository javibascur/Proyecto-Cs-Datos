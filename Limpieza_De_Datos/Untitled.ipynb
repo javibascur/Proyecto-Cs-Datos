{
 "cells": [
  {
   "cell_type": "markdown",
   "id": "b74e05c4-8582-4505-a186-49a2fa4fbb32",
   "metadata": {},
   "source": [
    "# Inscripción"
   ]
  },
  {
   "cell_type": "code",
   "execution_count": 12,
   "id": "57aaab82-d45a-4f90-b05e-1eab82b2799e",
   "metadata": {},
   "outputs": [],
   "source": [
    "import pandas as pd\n",
    "import numpy as np"
   ]
  },
  {
   "cell_type": "code",
   "execution_count": null,
   "id": "3625c441-789d-44b1-bc85-ae6dbf1f06d7",
   "metadata": {},
   "outputs": [],
   "source": [
    "df = pd.read_csv(\"datos_utilizados/admision/2023/ArchivoB_Adm2023.csv\", sep=\";\", low_memory=False)\n",
    "conservar = [\"ID_aux\",\"ANYO_PROCESO\",\"SEXO\",\"GRUPO_DEPENDENCIA\",\"FECHA_NACIMIENTO\",\"ANYO_EGRESO\",\"CODIGO_REGION_D\",\"CODIGO_COMUNA_D\",\"RINDIO_PROCESO_ANTERIOR\",\"RINDIO_PROCESO_ACTUAL\",\"INGRESO_PERCAPITA_GRUPO_FA\"]\n",
    "df = df.drop(columns=[col for col in df.columns if col not in conservar])\n"
   ]
  }
 ],
 "metadata": {
  "kernelspec": {
   "display_name": "Python 3 (ipykernel)",
   "language": "python",
   "name": "python3"
  },
  "language_info": {
   "codemirror_mode": {
    "name": "ipython",
    "version": 3
   },
   "file_extension": ".py",
   "mimetype": "text/x-python",
   "name": "python",
   "nbconvert_exporter": "python",
   "pygments_lexer": "ipython3",
   "version": "3.12.4"
  }
 },
 "nbformat": 4,
 "nbformat_minor": 5
}
