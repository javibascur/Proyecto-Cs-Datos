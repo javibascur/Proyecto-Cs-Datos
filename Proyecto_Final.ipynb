{
 "cells": [
  {
   "cell_type": "markdown",
   "id": "aba06e32-b5be-45e4-a9a0-370b37414101",
   "metadata": {},
   "source": [
    "# Proyecto final: La desigualdad socioeconómica y su impacto en el acceso a la educación superior"
   ]
  },
  {
   "cell_type": "markdown",
   "id": "3695363b-7319-4153-857a-961a79849aca",
   "metadata": {},
   "source": [
    "## Introducción"
   ]
  },
  {
   "cell_type": "code",
   "execution_count": 14,
   "id": "a2c79268-983d-41b2-b993-6418ade71bbd",
   "metadata": {},
   "outputs": [],
   "source": [
    "#posible introduccion mencionar el tipo de archivos que tenemos y que debido a esto la extension puede no ser tanta"
   ]
  },
  {
   "cell_type": "markdown",
   "id": "65f2146b-2ae9-464d-aeb1-48ad43bacde7",
   "metadata": {},
   "source": [
    "## Imports"
   ]
  },
  {
   "cell_type": "code",
   "execution_count": 6,
   "id": "464a70bc-eb3f-43c8-89f7-f62e06c35651",
   "metadata": {},
   "outputs": [],
   "source": [
    "import pandas as pd\n",
    "import numpy as np"
   ]
  },
  {
   "cell_type": "markdown",
   "id": "95ed5d2e-132c-4a48-b903-b32efb5d5948",
   "metadata": {},
   "source": [
    "## Contexto y motivación"
   ]
  },
  {
   "cell_type": "code",
   "execution_count": null,
   "id": "835bd6b5-9e53-4824-9cd5-40d21598743d",
   "metadata": {},
   "outputs": [],
   "source": []
  },
  {
   "cell_type": "markdown",
   "id": "76fccb45-7a5e-430a-8198-93dc76c8a4df",
   "metadata": {},
   "source": [
    "## Preguntas objetivo"
   ]
  },
  {
   "cell_type": "code",
   "execution_count": null,
   "id": "7878b59b-f14d-4ee3-8cbf-782b60b7da19",
   "metadata": {},
   "outputs": [],
   "source": [
    "# obs grupo del victor: se especifican las preguntas que se mantuvieron y las que se crearon durante el proceso del proyecto"
   ]
  },
  {
   "cell_type": "markdown",
   "id": "4a64da44-ffed-4b12-ba3a-1587272d4914",
   "metadata": {},
   "source": [
    "## Datos"
   ]
  },
  {
   "cell_type": "code",
   "execution_count": null,
   "id": "a2618e90-3aa5-481b-a4ef-ba1896adaaef",
   "metadata": {},
   "outputs": [],
   "source": [
    "#intro sobre la carga de los archivos?"
   ]
  },
  {
   "cell_type": "markdown",
   "id": "c727f013-c377-495e-bba1-6a5d6f072974",
   "metadata": {},
   "source": [
    "### Datos sobre admisión de cada año"
   ]
  },
  {
   "cell_type": "code",
   "execution_count": 19,
   "id": "4a95bf26-fd0a-4ac6-8903-8b3e3a4d4949",
   "metadata": {},
   "outputs": [],
   "source": [
    "dfAdm2019 = pd.read_csv(\"Muestra_Datasets_DEMRE/datos_utilizados/admision/2019/ArchivoB_Adm2019.csv\", sep=\";\", low_memory=False)\n",
    "dfAdm2020 = pd.read_csv(\"Muestra_Datasets_DEMRE/datos_utilizados/admision/2020/ArchivoB_Adm2020.csv\", sep=\";\", low_memory=False)\n",
    "dfAdm2021 = pd.read_csv(\"Muestra_Datasets_DEMRE/datos_utilizados/admision/2021/ArchivoB_Adm2021.csv\", sep=\";\", low_memory=False)\n",
    "dfAdm2022 = pd.read_csv(\"Muestra_Datasets_DEMRE/datos_utilizados/admision/2022/ArchivoB_Adm2022.csv\", sep=\";\", low_memory=False)\n",
    "dfAdm2023 = pd.read_csv(\"Muestra_Datasets_DEMRE/datos_utilizados/admision/2023/ArchivoB_Adm2023.csv\", sep=\";\", low_memory=False)"
   ]
  },
  {
   "cell_type": "markdown",
   "id": "09ba0364-7f9b-48ed-a47a-aa820f8db480",
   "metadata": {},
   "source": [
    "### Datos sobre postulación de cada año"
   ]
  },
  {
   "cell_type": "code",
   "execution_count": 30,
   "id": "e003dd35-680a-45c8-ae47-198c1b6789a2",
   "metadata": {},
   "outputs": [],
   "source": [
    "dfPos2019 = pd.read_csv(\"Muestra_Datasets_DEMRE/datos_utilizados/postulacion/2019/ArchivoD_Adm2019.csv\", sep=\";\", low_memory=False)\n",
    "dfPos2020 = pd.read_csv(\"Muestra_Datasets_DEMRE/datos_utilizados/postulacion/2020/ArchivoD_Adm2020.csv\", sep=\";\", low_memory=False)\n",
    "dfPos2021 = pd.read_csv(\"Muestra_Datasets_DEMRE/datos_utilizados/postulacion/2021/ArchivoD_Adm2021.csv\", sep=\";\", low_memory=False)\n",
    "dfPos2022 = pd.read_csv(\"Muestra_Datasets_DEMRE/datos_utilizados/postulacion/2022/ArchivoD_Adm2022.csv\", sep=\";\", low_memory=False)\n",
    "dfPos2023 = pd.read_csv(\"Muestra_Datasets_DEMRE/datos_utilizados/postulacion/2023/ArchivoD_Adm2023.csv\", sep=\";\", low_memory=False)"
   ]
  },
  {
   "cell_type": "markdown",
   "id": "b3a5f3ef-0f9a-4162-bbe3-56356f0a97f2",
   "metadata": {},
   "source": [
    "### Datos sobre matrícula de cada año"
   ]
  },
  {
   "cell_type": "code",
   "execution_count": 28,
   "id": "d491db96-b12c-4119-ae0c-7f744afc7d5c",
   "metadata": {},
   "outputs": [],
   "source": [
    "dfMat2019 = pd.read_csv(\"Muestra_Datasets_DEMRE/datos_utilizados/matricula/2019/ArchivoMatr_Adm2019.csv\", sep=\";\", low_memory=False)\n",
    "dfMat2020 = pd.read_csv(\"Muestra_Datasets_DEMRE/datos_utilizados/matricula/2020/ArchivoMatr_Adm2020.csv\", sep=\";\", low_memory=False)\n",
    "dfMat2021 = pd.read_csv(\"Muestra_Datasets_DEMRE/datos_utilizados/matricula/2021/ArchivoMatr_Adm2021.csv\", sep=\";\", low_memory=False)\n",
    "dfMat2022 = pd.read_csv(\"Muestra_Datasets_DEMRE/datos_utilizados/matricula/2022/ArchivoMatr_Adm2022.csv\", sep=\";\", low_memory=False)\n",
    "dfMat2023 = pd.read_csv(\"Muestra_Datasets_DEMRE/datos_utilizados/matricula/2023/ArchivoMatr_Adm2023.csv\", sep=\";\", low_memory=False)"
   ]
  },
  {
   "cell_type": "markdown",
   "id": "3cb9e1ba-0210-431b-a47c-f9495ec826d1",
   "metadata": {},
   "source": [
    "### Datos rendición de pruebas de cada año"
   ]
  },
  {
   "cell_type": "code",
   "execution_count": 32,
   "id": "5baab427-c53e-4df4-b652-7e2884522f89",
   "metadata": {},
   "outputs": [],
   "source": [
    "dfRen2019 = pd.read_csv(\"Muestra_Datasets_DEMRE/datos_utilizados/rendicion/2019/ArchivoC_Adm2019.csv\", sep=\";\", low_memory=False)\n",
    "dfRen2020 = pd.read_csv(\"Muestra_Datasets_DEMRE/datos_utilizados/rendicion/2020/ArchivoC_Adm2020.csv\", sep=\";\", low_memory=False)\n",
    "dfRen2021 = pd.read_csv(\"Muestra_Datasets_DEMRE/datos_utilizados/rendicion/2021/ArchivoC_Adm2021.csv\", sep=\";\", low_memory=False)\n",
    "dfRen2022 = pd.read_csv(\"Muestra_Datasets_DEMRE/datos_utilizados/rendicion/2022/ArchivoC_Adm2022.csv\", sep=\";\", low_memory=False)\n",
    "dfRen2023 = pd.read_csv(\"Muestra_Datasets_DEMRE/datos_utilizados/rendicion/2023/ArchivoC_Adm2023.csv\", sep=\";\", low_memory=False)"
   ]
  },
  {
   "cell_type": "code",
   "execution_count": null,
   "id": "8a9ef5ef-ed4c-49c6-8c0e-53d01712bbd3",
   "metadata": {},
   "outputs": [],
   "source": []
  },
  {
   "cell_type": "markdown",
   "id": "b5133baf-cb21-43e3-8f9a-3427a2066f79",
   "metadata": {},
   "source": [
    "## Resumen/conclusion"
   ]
  },
  {
   "cell_type": "code",
   "execution_count": null,
   "id": "ccc0f0e6-97b0-4336-88c6-397de02b3cbb",
   "metadata": {},
   "outputs": [],
   "source": []
  },
  {
   "cell_type": "markdown",
   "id": "ffe74e14-626d-4333-8246-7ea7c67fddd6",
   "metadata": {},
   "source": [
    "## ¿Qué podría salir mal?"
   ]
  },
  {
   "cell_type": "code",
   "execution_count": 35,
   "id": "2820b884-7199-4d49-9256-9c6ccc9e2cbf",
   "metadata": {},
   "outputs": [],
   "source": [
    "#ideas que recurdo serian tema pandemia y el cambio de prueba de admision entre 2019 y 2023"
   ]
  },
  {
   "cell_type": "code",
   "execution_count": null,
   "id": "256033a1-5264-4f22-bd25-8fea40d54f4b",
   "metadata": {},
   "outputs": [],
   "source": []
  }
 ],
 "metadata": {
  "kernelspec": {
   "display_name": "Python 3 (ipykernel)",
   "language": "python",
   "name": "python3"
  },
  "language_info": {
   "codemirror_mode": {
    "name": "ipython",
    "version": 3
   },
   "file_extension": ".py",
   "mimetype": "text/x-python",
   "name": "python",
   "nbconvert_exporter": "python",
   "pygments_lexer": "ipython3",
   "version": "3.12.4"
  }
 },
 "nbformat": 4,
 "nbformat_minor": 5
}
