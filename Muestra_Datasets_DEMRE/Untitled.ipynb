{
 "cells": [
  {
   "cell_type": "code",
   "execution_count": 5,
   "id": "4ceebbb9-3ea1-41bf-bc78-40f7d8cb533b",
   "metadata": {},
   "outputs": [],
   "source": [
    "import pandas as pd\n",
    "df = pd.read_csv(\"datos_utilizados/admision/2023/ArchivoB_Adm2023.csv\", sep=\";\", low_memory=False)\n",
    "conservar = [\"ID_aux\",\"ANYO_PROCESO\",\"SEXO\",\"GRUPO_DEPENDENCIA\",\"FECHA_NACIMIENTO\",\"ANYO_EGRESO\",\"CODIGO_REGION_D\",\"CODIGO_COMUNA_D\",\"RINDIO_PROCESO_ANTERIOR\",\"RINDIO_PROCESO_ACTUAL\",\"INGRESO_PERCAPITA_GRUPO_FA\"]\n",
    "df = df.drop(columns=[col for col in df.columns if col not in conservar])\n",
    "df.to_csv('archivo.csv', index=False)"
   ]
  },
  {
   "cell_type": "code",
   "execution_count": null,
   "id": "cfe4dbe0-15f4-4667-837a-5ca5993689b6",
   "metadata": {},
   "outputs": [],
   "source": []
  }
 ],
 "metadata": {
  "kernelspec": {
   "display_name": "Python 3 (ipykernel)",
   "language": "python",
   "name": "python3"
  },
  "language_info": {
   "codemirror_mode": {
    "name": "ipython",
    "version": 3
   },
   "file_extension": ".py",
   "mimetype": "text/x-python",
   "name": "python",
   "nbconvert_exporter": "python",
   "pygments_lexer": "ipython3",
   "version": "3.12.4"
  }
 },
 "nbformat": 4,
 "nbformat_minor": 5
}
